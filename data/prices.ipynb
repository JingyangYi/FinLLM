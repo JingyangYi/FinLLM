{
 "cells": [
  {
   "cell_type": "code",
   "id": "initial_id",
   "metadata": {
    "collapsed": true,
    "ExecuteTime": {
     "end_time": "2024-11-16T20:16:59.885480Z",
     "start_time": "2024-11-16T20:16:58.676443Z"
    }
   },
   "source": "import yfinance as yf",
   "outputs": [],
   "execution_count": 1
  },
  {
   "metadata": {
    "ExecuteTime": {
     "end_time": "2024-11-16T20:28:16.089966Z",
     "start_time": "2024-11-16T20:28:15.388054Z"
    }
   },
   "cell_type": "code",
   "source": [
    "symbol = 'goog'\n",
    "prices = yf.download(symbol, start='2014-11-01', end='2024-11-01')"
   ],
   "id": "877dfb4953ab2ce",
   "outputs": [
    {
     "name": "stderr",
     "output_type": "stream",
     "text": [
      "[*********************100%***********************]  1 of 1 completed\n"
     ]
    }
   ],
   "execution_count": 3
  },
  {
   "metadata": {
    "ExecuteTime": {
     "end_time": "2024-11-16T20:29:22.331966Z",
     "start_time": "2024-11-16T20:29:22.305993Z"
    }
   },
   "cell_type": "code",
   "source": "prices = prices['Open']",
   "id": "a0733168386895f7",
   "outputs": [],
   "execution_count": 8
  },
  {
   "metadata": {},
   "cell_type": "code",
   "outputs": [],
   "execution_count": null,
   "source": "",
   "id": "d385cb3f33cbd792"
  }
 ],
 "metadata": {
  "kernelspec": {
   "display_name": "Python 3",
   "language": "python",
   "name": "python3"
  },
  "language_info": {
   "codemirror_mode": {
    "name": "ipython",
    "version": 2
   },
   "file_extension": ".py",
   "mimetype": "text/x-python",
   "name": "python",
   "nbconvert_exporter": "python",
   "pygments_lexer": "ipython2",
   "version": "2.7.6"
  }
 },
 "nbformat": 4,
 "nbformat_minor": 5
}
